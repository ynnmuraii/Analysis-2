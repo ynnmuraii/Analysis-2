{
 "cells": [
  {
   "cell_type": "markdown",
   "id": "6b9f74c2",
   "metadata": {
    "toc": true
   },
   "source": [
    "<h1>Table of Contents<span class=\"tocSkip\"></span></h1>\n",
    "<div class=\"toc\"><ul class=\"toc-item\"></ul></div>"
   ]
  },
  {
   "cell_type": "code",
   "execution_count": 1,
   "id": "bc22cd26",
   "metadata": {},
   "outputs": [],
   "source": [
    "import numpy as np\n",
    "import pandas as pd\n",
    "import matplotlib.pyplot as plt\n",
    "import scipy as sci\n",
    "import scipy.stats as st"
   ]
  },
  {
   "cell_type": "code",
   "execution_count": 2,
   "id": "42becb29",
   "metadata": {},
   "outputs": [],
   "source": [
    "#Строим доверительный интервал для a=M(X)"
   ]
  },
  {
   "cell_type": "code",
   "execution_count": 3,
   "id": "289b81fc",
   "metadata": {},
   "outputs": [],
   "source": [
    "### задаем параметры нормального распредеелния\n",
    "n=25\n",
    "a=0\n",
    "Sigma=1\n",
    "#########################################\n",
    "gamma=0.95 ### доверительная вероятность"
   ]
  },
  {
   "cell_type": "code",
   "execution_count": 4,
   "id": "2ca3859e",
   "metadata": {},
   "outputs": [],
   "source": [
    "#### генерируем выборку из нормально распределенной СВ X\n",
    "X= np.random.normal(a,Sigma,size = n)"
   ]
  },
  {
   "cell_type": "code",
   "execution_count": 5,
   "id": "daa7ce0b",
   "metadata": {},
   "outputs": [
    {
     "name": "stdout",
     "output_type": "stream",
     "text": [
      "t_gamma=F_s_INVERSE( 0.99 )= 2.3263478740408408\n",
      "P(U< 2.3263478740408408 )=F_S( 2.3263478740408408 )= 0.99\n"
     ]
    }
   ],
   "source": [
    "### Percent point function =ppf\n",
    "P_=0.99\n",
    "t_gamma=st.norm.ppf(P_, loc=0, scale=1)\n",
    "print(\"t_gamma=F_s_INVERSE(\",P_,\")=\",t_gamma)\n",
    "ppp=st.norm.cdf(t_gamma, loc=0, scale=1)\n",
    "\n",
    "print(\"P(U<\",t_gamma,\")=F_S(\",t_gamma,\")=\",ppp)"
   ]
  },
  {
   "cell_type": "code",
   "execution_count": 6,
   "id": "18a8137d",
   "metadata": {},
   "outputs": [
    {
     "name": "stdout",
     "output_type": "stream",
     "text": [
      "доверительный интервал для параметра a\n"
     ]
    },
    {
     "data": {
      "text/plain": [
       "(np.float64(-0.66041833102204), np.float64(0.12356726279398161))"
      ]
     },
     "execution_count": 6,
     "metadata": {},
     "output_type": "execute_result"
    }
   ],
   "source": [
    "#### Вычисляем \"вручную\" границы интервальной оценки математического ожидания \n",
    "##нормально распределенной СВ X\n",
    "### для случая известной дисперсии\n",
    "#### \n",
    "P_=1/2+gamma/2\n",
    "t_gamma=st.norm.ppf(P_, loc=0, scale=1)\n",
    "a_left_ =X.mean()-Sigma*t_gamma/n**0.5\n",
    "a_right_=X.mean()+Sigma*t_gamma/n**0.5\n",
    "print('доверительный интервал для параметра a')\n",
    "(a_left_,a_right_)"
   ]
  },
  {
   "cell_type": "code",
   "execution_count": 7,
   "id": "3b04c706",
   "metadata": {},
   "outputs": [
    {
     "ename": "TypeError",
     "evalue": "rv_generic.interval() missing 1 required positional argument: 'confidence'",
     "output_type": "error",
     "traceback": [
      "\u001b[1;31m---------------------------------------------------------------------------\u001b[0m",
      "\u001b[1;31mTypeError\u001b[0m                                 Traceback (most recent call last)",
      "Cell \u001b[1;32mIn[7], line 6\u001b[0m\n\u001b[0;32m      1\u001b[0m \u001b[38;5;66;03m#### Вычисляем \"вручную\" границы интервальной оценки математического ожидания \u001b[39;00m\n\u001b[0;32m      2\u001b[0m \u001b[38;5;66;03m##нормально распределенной СВ X\u001b[39;00m\n\u001b[0;32m      3\u001b[0m \u001b[38;5;66;03m### для случая известной дисперсии\u001b[39;00m\n\u001b[0;32m      4\u001b[0m \u001b[38;5;66;03m#### с помощью встроенных статистических функций Питона\u001b[39;00m\n\u001b[0;32m      5\u001b[0m a_estimate\u001b[38;5;241m=\u001b[39mnp\u001b[38;5;241m.\u001b[39mmean(X)\n\u001b[1;32m----> 6\u001b[0m interval_estimate_1\u001b[38;5;241m=\u001b[39m\u001b[43mst\u001b[49m\u001b[38;5;241;43m.\u001b[39;49m\u001b[43mnorm\u001b[49m\u001b[38;5;241;43m.\u001b[39;49m\u001b[43minterval\u001b[49m\u001b[43m(\u001b[49m\u001b[43malpha\u001b[49m\u001b[38;5;241;43m=\u001b[39;49m\u001b[43mgamma\u001b[49m\u001b[43m,\u001b[49m\u001b[43m \u001b[49m\n\u001b[0;32m      7\u001b[0m \u001b[43m              \u001b[49m\u001b[43mloc\u001b[49m\u001b[38;5;241;43m=\u001b[39;49m\u001b[43ma_estimate\u001b[49m\u001b[43m,\u001b[49m\n\u001b[0;32m      8\u001b[0m \u001b[43m              \u001b[49m\u001b[43mscale\u001b[49m\u001b[38;5;241;43m=\u001b[39;49m\u001b[43mSigma\u001b[49m\u001b[38;5;241;43m/\u001b[39;49m\u001b[43mnp\u001b[49m\u001b[38;5;241;43m.\u001b[39;49m\u001b[43msqrt\u001b[49m\u001b[43m(\u001b[49m\u001b[43mn\u001b[49m\u001b[43m)\u001b[49m\u001b[43m)\u001b[49m \n\u001b[0;32m      9\u001b[0m \u001b[38;5;28mprint\u001b[39m(interval_estimate_1)\n",
      "\u001b[1;31mTypeError\u001b[0m: rv_generic.interval() missing 1 required positional argument: 'confidence'"
     ]
    }
   ],
   "source": [
    "#### Вычисляем \"вручную\" границы интервальной оценки математического ожидания \n",
    "##нормально распределенной СВ X\n",
    "### для случая известной дисперсии\n",
    "#### с помощью встроенных статистических функций Питона\n",
    "a_estimate=np.mean(X)\n",
    "interval_estimate_1=st.norm.interval(alpha=gamma, \n",
    "              loc=a_estimate,\n",
    "              scale=Sigma/np.sqrt(n)) \n",
    "print(interval_estimate_1)"
   ]
  },
  {
   "cell_type": "code",
   "execution_count": null,
   "id": "2c645f90",
   "metadata": {},
   "outputs": [
    {
     "name": "stdout",
     "output_type": "stream",
     "text": [
      "2.0638985616280205\n",
      "[-0.4436982402031126, 0.34599989301234507]\n"
     ]
    }
   ],
   "source": [
    "#### Вычисляем границы интервальной оценки математического ожидания при неизвестной дисперсии\n",
    "#### \"вручную\"\n",
    "interval_for_MX_=[0]*2\n",
    "### Percent point function =ppf= Inverse CDF\n",
    "t_gamma_0=st.t.ppf(1/2+gamma/2, df=len(X)-1)\n",
    "print(t_gamma_0)\n",
    "a_estimate=np.mean(X)\n",
    "sigma_estimate=np.std(X,ddof=1)\n",
    "interval_for_MX_[0]=a_estimate-sigma_estimate*t_gamma_0/np.sqrt(n)\n",
    "interval_for_MX_[1]=a_estimate+sigma_estimate*t_gamma_0/np.sqrt(n)\n",
    "print(interval_for_MX_)"
   ]
  },
  {
   "cell_type": "code",
   "execution_count": null,
   "id": "b06a8752",
   "metadata": {},
   "outputs": [
    {
     "name": "stdout",
     "output_type": "stream",
     "text": [
      "(-0.4436982402031126, 0.34599989301234507)\n"
     ]
    }
   ],
   "source": [
    "### Способ № 1\n",
    "#### Вычисляем границы интервальной оценки математического ожидания при неизвестной дисперсии\n",
    "#### с помощью встроенных статистических функц_0, df=len(X)-1,\n",
    "a_estimate=np.mean(X)\n",
    "sigma_estimate=np.std(X,ddof=1)\n",
    "interval_estimate_2=st.t.interval(alpha=gamma, df=len(X)-1,\n",
    "              loc=a_estimate,\n",
    "              scale=sigma_estimate/np.sqrt(n)) \n",
    "print(interval_estimate_2)"
   ]
  },
  {
   "cell_type": "code",
   "execution_count": null,
   "id": "b4c5a5e2",
   "metadata": {},
   "outputs": [
    {
     "name": "stdout",
     "output_type": "stream",
     "text": [
      "(-0.4436982402031126, 0.34599989301234507)\n",
      "0.19131224467556612 0.19131224467556612\n"
     ]
    }
   ],
   "source": [
    "### Способ № 2\n",
    "#### Вычисляем границы интервальной оценки математического ожидания при неизвестной дисперсии\n",
    "#### с помощью встроенных статистических функций Питона\n",
    "interval_estimate_2=st.t.interval(alpha=gamma, df=len(X)-1,\n",
    "              loc=a_estimate,\n",
    "              scale=st.sem(X,ddof=1)) \n",
    "print(interval_estimate_2)\n",
    "##### ПРОВЕРКА \n",
    "##### ПРИ ВЫЗОВЕ st.sem параметр ddof=0 ( и также по умолчанию ddof=0)\n",
    "print(st.sem(X,ddof=1),sigma_estimate/np.sqrt(n))"
   ]
  },
  {
   "cell_type": "code",
   "execution_count": null,
   "id": "3e1d4376",
   "metadata": {},
   "outputs": [
    {
     "data": {
      "text/plain": [
       "[<matplotlib.lines.Line2D at 0x22eba344880>]"
      ]
     },
     "execution_count": 127,
     "metadata": {},
     "output_type": "execute_result"
    },
    {
     "data": {
      "image/png": "[encoded data removed]",
      "text/plain": [
       "<Figure size 432x288 with 1 Axes>"
      ]
     },
     "metadata": {
      "needs_background": "light"
     },
     "output_type": "display_data"
    }
   ],
   "source": [
    "##### Изучаем зависимость точности интервальной оценки для MX при известной дисперсии от надежности \n",
    "#### при неизменном объему выборки\n",
    "#################################\n",
    "sample = np.random.normal(a, Sigma, n)\n",
    "a_estimate=np.mean(sample)\n",
    "##################################\n",
    "V=500\n",
    "### массив gamma_ будет содержать V значений надежности\n",
    "gamma_=[0.0]*V\n",
    "### массив delta_ будет содержать V значений длин доверительных интервалов, отвечающих соответствующим надежностям\n",
    "delta_=[0.0]*V\n",
    "gamma__0=0.7\n",
    "gamma__1=0.9999999999\n",
    "h=(gamma__1-gamma__0)/V\n",
    "for i in range(V):\n",
    "    gamma_[i]=gamma__0+i*h\n",
    "    interval_estimate_MX=st.norm.interval(alpha=gamma_[i], \n",
    "              loc=a_estimate, \n",
    "              scale=Sigma/np.sqrt(n)) \n",
    "    delta_[i]=interval_estimate_MX[1]-interval_estimate_MX[0]\n",
    "###print(delta_)\n",
    "plt.plot(gamma_,delta_)"
   ]
  },
  {
   "cell_type": "markdown",
   "id": "6ca52915",
   "metadata": {},
   "source": [
    "Материалы к Лабораторной Работе №2"
   ]
  },
  {
   "cell_type": "markdown",
   "id": "c0207e45",
   "metadata": {},
   "source": [
    "НОРМАЛЬНОЕ РАСПРЕДЕЛЕНИЕ. Оценивание надежности интервальной оценки M(X)"
   ]
  },
  {
   "cell_type": "code",
   "execution_count": null,
   "id": "8ea006af",
   "metadata": {},
   "outputs": [
    {
     "name": "stdout",
     "output_type": "stream",
     "text": [
      "[0.94775, 0.9505, 0.94775, 0.9485, 0.94975, 0.95025, 0.94875, 0.95875, 0.95425, 0.95, 0.948, 0.9475, 0.946, 0.945, 0.95075, 0.9465, 0.953, 0.95225, 0.95275, 0.945, 0.949, 0.94525, 0.94625, 0.9495, 0.95025, 0.95125, 0.94875, 0.95475, 0.94925, 0.948, 0.94775, 0.95125, 0.94775, 0.95, 0.94275, 0.9535, 0.95525, 0.9415, 0.9475, 0.94325, 0.947, 0.95175, 0.9455, 0.96075, 0.94625, 0.95875, 0.944, 0.94975, 0.94925, 0.949]\n"
     ]
    }
   ],
   "source": [
    "### задаем параметры нормального распредеелния\n",
    "n=25\n",
    "a=0\n",
    "Sigma=1\n",
    "#########################################\n",
    "t_gamma=2.064 ## n=25\n",
    "V=50 ### число точечных оценок надежности gamma=0.95\n",
    "M=4000 ### число интервальных оценок\n",
    "################################\n",
    "COUNT_=[0]*V\n",
    "P_hat=[0.0]*V\n",
    "a_left=[0.0]*M\n",
    "a_right=[0.0]*M\n",
    "for j in range(V):\n",
    "    for i in range(M):\n",
    "        X= np.random.normal(a,Sigma,size = n)\n",
    "        S=np.std(X,ddof=1)\n",
    "        a_left[i] =X.mean()-S*t_gamma/n**0.5\n",
    "        a_right[i]=X.mean()+S*t_gamma/n**0.5\n",
    "    s0=pd.Series(data=a_left)\n",
    "    ##print(s0)\n",
    "    s1=pd.Series(data=a_right)\n",
    "    COUNT_[j]=((s0<a)&(s1>a)).sum()\n",
    "    P_hat[j]=COUNT_[j]/M\n",
    "print(P_hat)"
   ]
  },
  {
   "cell_type": "code",
   "execution_count": null,
   "id": "1cea6167",
   "metadata": {},
   "outputs": [
    {
     "name": "stdout",
     "output_type": "stream",
     "text": [
      "0.9493550000000001 0.003967370099978589\n"
     ]
    }
   ],
   "source": [
    "print(np.mean(P_hat),np.std(P_hat,ddof=1))"
   ]
  },
  {
   "cell_type": "code",
   "execution_count": null,
   "id": "ee866f80",
   "metadata": {},
   "outputs": [
    {
     "data": {
      "text/plain": [
       "[<matplotlib.lines.Line2D at 0x22ea9f5bd60>]"
      ]
     },
     "execution_count": 45,
     "metadata": {},
     "output_type": "execute_result"
    },
    {
     "data": {
      "image/png": "[encoded data removed]",
      "text/plain": [
       "<Figure size 432x288 with 1 Axes>"
      ]
     },
     "metadata": {
      "needs_background": "light"
     },
     "output_type": "display_data"
    }
   ],
   "source": [
    "plt.plot(P_hat)"
   ]
  },
  {
   "cell_type": "code",
   "execution_count": null,
   "id": "3cc6d893",
   "metadata": {},
   "outputs": [
    {
     "data": {
      "image/png": "[encoded data removed]",
      "text/plain": [
       "<Figure size 432x288 with 1 Axes>"
      ]
     },
     "metadata": {
      "needs_background": "light"
     },
     "output_type": "display_data"
    }
   ],
   "source": [
    "count, bins, ignored  = plt.hist(P_hat,bins='sturges',color='r')"
   ]
  },
  {
   "cell_type": "code",
   "execution_count": null,
   "id": "35601c02",
   "metadata": {},
   "outputs": [
    {
     "name": "stdout",
     "output_type": "stream",
     "text": [
      "AxesSubplot(0.125,0.125;0.775x0.755)\n"
     ]
    },
    {
     "name": "stderr",
     "output_type": "stream",
     "text": [
      "C:\\Users\\admin\\anaconda3\\lib\\site-packages\\seaborn\\_decorators.py:36: FutureWarning: Pass the following variable as a keyword arg: x. From version 0.12, the only valid positional argument will be `data`, and passing other arguments without an explicit keyword will result in an error or misinterpretation.\n",
      "  warnings.warn(\n"
     ]
    },
    {
     "data": {
      "image/png": "[encoded data removed]",
      "text/plain": [
       "<Figure size 432x288 with 1 Axes>"
      ]
     },
     "metadata": {
      "needs_background": "light"
     },
     "output_type": "display_data"
    }
   ],
   "source": [
    "import seaborn as sb\n",
    "W=sb.boxplot(P_hat)\n",
    "print(W)"
   ]
  },
  {
   "cell_type": "raw",
   "id": "6f9d88ad",
   "metadata": {},
   "source": [
    "# НОРМАЛЬНОЕ РАСПРЕДЕЛЕНИЕ. Оценивание надежности интервальной оценки D(X)"
   ]
  },
  {
   "cell_type": "code",
   "execution_count": null,
   "id": "d2c488e7",
   "metadata": {},
   "outputs": [
    {
     "name": "stdout",
     "output_type": "stream",
     "text": [
      "[0.95575, 0.95, 0.9495, 0.952, 0.953, 0.9435, 0.95025, 0.952, 0.946, 0.95525, 0.9485, 0.9565, 0.9505, 0.9535, 0.957, 0.94275, 0.9495, 0.94575, 0.953, 0.95125, 0.95375, 0.9485, 0.94725, 0.94875, 0.945, 0.9515, 0.95175, 0.9515, 0.94825, 0.94325, 0.949, 0.94875, 0.95025, 0.952, 0.957, 0.956, 0.951, 0.94975, 0.9515, 0.954, 0.9575, 0.9475, 0.953, 0.9475, 0.9445, 0.9515, 0.9525, 0.953, 0.95325, 0.9565]\n"
     ]
    }
   ],
   "source": [
    "n=25\n",
    "V=50 ### число точечных оценок надежности gamma=0.95\n",
    "M=4000 ### число интервальных оценок\n",
    "COUNT_=[0]*V\n",
    "sigma_left=[0.0]*M\n",
    "sigma_right=[0.0]*M\n",
    "delta_0=39.4 ### n=25 \n",
    "delta_1=12.4 ### n=25 \n",
    "COUNT_=[0]*V\n",
    "S2_left=[0.0]*M\n",
    "type(S2_left)\n",
    "S2_right=[0.0]*M\n",
    "for j in range(V):\n",
    "    for i in range(M):\n",
    "        X= np.random.normal(a,Sigma,size = n) ### \n",
    "        DX=Sigma**2\n",
    "        D_hat=np.var(X,ddof=1)\n",
    "        S2_left[i] =(n-1)*D_hat/delta_0\n",
    "        S2_right[i]=(n-1)*D_hat/delta_1\n",
    "    s0=pd.Series(data=S2_left)\n",
    "    s1=pd.Series(data=S2_right)\n",
    "    COUNT_[j]=((s0<DX)&(s1>DX)).sum()\n",
    "    COUNT_[j]=COUNT_[j]/M\n",
    "print(COUNT_)"
   ]
  },
  {
   "cell_type": "code",
   "execution_count": null,
   "id": "a9d845b6",
   "metadata": {},
   "outputs": [
    {
     "data": {
      "text/html": [
       "<div>\n",
       "<style scoped>\n",
       "    .dataframe tbody tr th:only-of-type {\n",
       "        vertical-align: middle;\n",
       "    }\n",
       "\n",
       "    .dataframe tbody tr th {\n",
       "        vertical-align: top;\n",
       "    }\n",
       "\n",
       "    .dataframe thead th {\n",
       "        text-align: right;\n",
       "    }\n",
       "</style>\n",
       "<table border=\"1\" class=\"dataframe\">\n",
       "  <thead>\n",
       "    <tr style=\"text-align: right;\">\n",
       "      <th></th>\n",
       "      <th>COUNT</th>\n",
       "    </tr>\n",
       "  </thead>\n",
       "  <tbody>\n",
       "    <tr>\n",
       "      <th>0</th>\n",
       "      <td>0.95575</td>\n",
       "    </tr>\n",
       "    <tr>\n",
       "      <th>1</th>\n",
       "      <td>0.95000</td>\n",
       "    </tr>\n",
       "    <tr>\n",
       "      <th>2</th>\n",
       "      <td>0.94950</td>\n",
       "    </tr>\n",
       "    <tr>\n",
       "      <th>3</th>\n",
       "      <td>0.95200</td>\n",
       "    </tr>\n",
       "    <tr>\n",
       "      <th>4</th>\n",
       "      <td>0.95300</td>\n",
       "    </tr>\n",
       "    <tr>\n",
       "      <th>5</th>\n",
       "      <td>0.94350</td>\n",
       "    </tr>\n",
       "    <tr>\n",
       "      <th>6</th>\n",
       "      <td>0.95025</td>\n",
       "    </tr>\n",
       "    <tr>\n",
       "      <th>7</th>\n",
       "      <td>0.95200</td>\n",
       "    </tr>\n",
       "    <tr>\n",
       "      <th>8</th>\n",
       "      <td>0.94600</td>\n",
       "    </tr>\n",
       "    <tr>\n",
       "      <th>9</th>\n",
       "      <td>0.95525</td>\n",
       "    </tr>\n",
       "    <tr>\n",
       "      <th>10</th>\n",
       "      <td>0.94850</td>\n",
       "    </tr>\n",
       "    <tr>\n",
       "      <th>11</th>\n",
       "      <td>0.95650</td>\n",
       "    </tr>\n",
       "    <tr>\n",
       "      <th>12</th>\n",
       "      <td>0.95050</td>\n",
       "    </tr>\n",
       "    <tr>\n",
       "      <th>13</th>\n",
       "      <td>0.95350</td>\n",
       "    </tr>\n",
       "    <tr>\n",
       "      <th>14</th>\n",
       "      <td>0.95700</td>\n",
       "    </tr>\n",
       "    <tr>\n",
       "      <th>15</th>\n",
       "      <td>0.94275</td>\n",
       "    </tr>\n",
       "    <tr>\n",
       "      <th>16</th>\n",
       "      <td>0.94950</td>\n",
       "    </tr>\n",
       "    <tr>\n",
       "      <th>17</th>\n",
       "      <td>0.94575</td>\n",
       "    </tr>\n",
       "    <tr>\n",
       "      <th>18</th>\n",
       "      <td>0.95300</td>\n",
       "    </tr>\n",
       "    <tr>\n",
       "      <th>19</th>\n",
       "      <td>0.95125</td>\n",
       "    </tr>\n",
       "    <tr>\n",
       "      <th>20</th>\n",
       "      <td>0.95375</td>\n",
       "    </tr>\n",
       "    <tr>\n",
       "      <th>21</th>\n",
       "      <td>0.94850</td>\n",
       "    </tr>\n",
       "    <tr>\n",
       "      <th>22</th>\n",
       "      <td>0.94725</td>\n",
       "    </tr>\n",
       "    <tr>\n",
       "      <th>23</th>\n",
       "      <td>0.94875</td>\n",
       "    </tr>\n",
       "    <tr>\n",
       "      <th>24</th>\n",
       "      <td>0.94500</td>\n",
       "    </tr>\n",
       "    <tr>\n",
       "      <th>25</th>\n",
       "      <td>0.95150</td>\n",
       "    </tr>\n",
       "    <tr>\n",
       "      <th>26</th>\n",
       "      <td>0.95175</td>\n",
       "    </tr>\n",
       "    <tr>\n",
       "      <th>27</th>\n",
       "      <td>0.95150</td>\n",
       "    </tr>\n",
       "    <tr>\n",
       "      <th>28</th>\n",
       "      <td>0.94825</td>\n",
       "    </tr>\n",
       "    <tr>\n",
       "      <th>29</th>\n",
       "      <td>0.94325</td>\n",
       "    </tr>\n",
       "    <tr>\n",
       "      <th>30</th>\n",
       "      <td>0.94900</td>\n",
       "    </tr>\n",
       "    <tr>\n",
       "      <th>31</th>\n",
       "      <td>0.94875</td>\n",
       "    </tr>\n",
       "    <tr>\n",
       "      <th>32</th>\n",
       "      <td>0.95025</td>\n",
       "    </tr>\n",
       "    <tr>\n",
       "      <th>33</th>\n",
       "      <td>0.95200</td>\n",
       "    </tr>\n",
       "    <tr>\n",
       "      <th>34</th>\n",
       "      <td>0.95700</td>\n",
       "    </tr>\n",
       "    <tr>\n",
       "      <th>35</th>\n",
       "      <td>0.95600</td>\n",
       "    </tr>\n",
       "    <tr>\n",
       "      <th>36</th>\n",
       "      <td>0.95100</td>\n",
       "    </tr>\n",
       "    <tr>\n",
       "      <th>37</th>\n",
       "      <td>0.94975</td>\n",
       "    </tr>\n",
       "    <tr>\n",
       "      <th>38</th>\n",
       "      <td>0.95150</td>\n",
       "    </tr>\n",
       "    <tr>\n",
       "      <th>39</th>\n",
       "      <td>0.95400</td>\n",
       "    </tr>\n",
       "    <tr>\n",
       "      <th>40</th>\n",
       "      <td>0.95750</td>\n",
       "    </tr>\n",
       "    <tr>\n",
       "      <th>41</th>\n",
       "      <td>0.94750</td>\n",
       "    </tr>\n",
       "    <tr>\n",
       "      <th>42</th>\n",
       "      <td>0.95300</td>\n",
       "    </tr>\n",
       "    <tr>\n",
       "      <th>43</th>\n",
       "      <td>0.94750</td>\n",
       "    </tr>\n",
       "    <tr>\n",
       "      <th>44</th>\n",
       "      <td>0.94450</td>\n",
       "    </tr>\n",
       "    <tr>\n",
       "      <th>45</th>\n",
       "      <td>0.95150</td>\n",
       "    </tr>\n",
       "    <tr>\n",
       "      <th>46</th>\n",
       "      <td>0.95250</td>\n",
       "    </tr>\n",
       "    <tr>\n",
       "      <th>47</th>\n",
       "      <td>0.95300</td>\n",
       "    </tr>\n",
       "    <tr>\n",
       "      <th>48</th>\n",
       "      <td>0.95325</td>\n",
       "    </tr>\n",
       "    <tr>\n",
       "      <th>49</th>\n",
       "      <td>0.95650</td>\n",
       "    </tr>\n",
       "  </tbody>\n",
       "</table>\n",
       "</div>"
      ],
      "text/plain": [
       "      COUNT\n",
       "0   0.95575\n",
       "1   0.95000\n",
       "2   0.94950\n",
       "3   0.95200\n",
       "4   0.95300\n",
       "5   0.94350\n",
       "6   0.95025\n",
       "7   0.95200\n",
       "8   0.94600\n",
       "9   0.95525\n",
       "10  0.94850\n",
       "11  0.95650\n",
       "12  0.95050\n",
       "13  0.95350\n",
       "14  0.95700\n",
       "15  0.94275\n",
       "16  0.94950\n",
       "17  0.94575\n",
       "18  0.95300\n",
       "19  0.95125\n",
       "20  0.95375\n",
       "21  0.94850\n",
       "22  0.94725\n",
       "23  0.94875\n",
       "24  0.94500\n",
       "25  0.95150\n",
       "26  0.95175\n",
       "27  0.95150\n",
       "28  0.94825\n",
       "29  0.94325\n",
       "30  0.94900\n",
       "31  0.94875\n",
       "32  0.95025\n",
       "33  0.95200\n",
       "34  0.95700\n",
       "35  0.95600\n",
       "36  0.95100\n",
       "37  0.94975\n",
       "38  0.95150\n",
       "39  0.95400\n",
       "40  0.95750\n",
       "41  0.94750\n",
       "42  0.95300\n",
       "43  0.94750\n",
       "44  0.94450\n",
       "45  0.95150\n",
       "46  0.95250\n",
       "47  0.95300\n",
       "48  0.95325\n",
       "49  0.95650"
      ]
     },
     "execution_count": 53,
     "metadata": {},
     "output_type": "execute_result"
    }
   ],
   "source": [
    "s=pd.DataFrame(data=COUNT_,columns=['COUNT'])\n",
    "s"
   ]
  },
  {
   "cell_type": "code",
   "execution_count": null,
   "id": "b0265318",
   "metadata": {},
   "outputs": [
    {
     "data": {
      "text/plain": [
       "<AxesSubplot:>"
      ]
     },
     "execution_count": 54,
     "metadata": {},
     "output_type": "execute_result"
    },
    {
     "data": {
      "image/png": "[encoded data removed]",
      "text/plain": [
       "<Figure size 432x288 with 1 Axes>"
      ]
     },
     "metadata": {
      "needs_background": "light"
     },
     "output_type": "display_data"
    }
   ],
   "source": [
    "s.COUNT.plot()"
   ]
  },
  {
   "cell_type": "code",
   "execution_count": null,
   "id": "922a9713",
   "metadata": {},
   "outputs": [
    {
     "data": {
      "text/plain": [
       "(COUNT    0.95082\n",
       " dtype: float64,\n",
       " COUNT    0.003741\n",
       " dtype: float64)"
      ]
     },
     "execution_count": 55,
     "metadata": {},
     "output_type": "execute_result"
    }
   ],
   "source": [
    "(s.mean(),s.std())"
   ]
  },
  {
   "cell_type": "code",
   "execution_count": null,
   "id": "e2cfa7c1",
   "metadata": {},
   "outputs": [],
   "source": []
  }
 ],
 "metadata": {
  "kernelspec": {
   "display_name": "Python 3",
   "language": "python",
   "name": "python3"
  },
  "language_info": {
   "codemirror_mode": {
    "name": "ipython",
    "version": 3
   },
   "file_extension": ".py",
   "mimetype": "text/x-python",
   "name": "python",
   "nbconvert_exporter": "python",
   "pygments_lexer": "ipython3",
   "version": "3.12.7"
  },
  "toc": {
   "base_numbering": 1,
   "nav_menu": {
    "height": "45px",
    "width": "188px"
   },
   "number_sections": true,
   "sideBar": true,
   "skip_h1_title": false,
   "title_cell": "Table of Contents",
   "title_sidebar": "Contents",
   "toc_cell": true,
   "toc_position": {},
   "toc_section_display": true,
   "toc_window_display": false
  }
 },
 "nbformat": 4,
 "nbformat_minor": 5
}
